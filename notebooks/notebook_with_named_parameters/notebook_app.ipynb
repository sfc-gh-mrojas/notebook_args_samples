{
 "metadata": {
  "kernelspec": {
   "display_name": "Streamlit Notebook",
   "name": "streamlit"
  }
 },
 "nbformat_minor": 5,
 "nbformat": 4,
 "cells": [
  {
   "cell_type": "code",
   "id": "3775908f-ca36-4846-8f38-5adca39217f2",
   "metadata": {
    "language": "python",
    "name": "cell1",
    "collapsed": false
   },
   "source": "# Import python packages\nimport streamlit as st\nimport pandas as pd\nimport json\n\n# We can also use Snowpark for our analyses!\nfrom snowflake.snowpark.context import get_active_session\nsession = get_active_session()\n",
   "execution_count": null,
   "outputs": []
  },
  {
   "cell_type": "code",
   "id": "8d50cbf4-0c8d-4950-86cb-114990437ac9",
   "metadata": {
    "language": "python",
    "name": "cell2",
    "collapsed": false
   },
   "source": "# just importing this module will process any arguments\n# just add sfutils.py into an stage and the add it to your notebook imports\nimport sfutils",
   "execution_count": null,
   "outputs": []
  },
  {
   "cell_type": "code",
   "id": "c695373e-ac74-4b62-a1f1-08206cbd5c81",
   "metadata": {
    "language": "sql",
    "name": "cell3",
    "collapsed": false
   },
   "source": "CREATE TABLE IF NOT EXISTS NOTEBOOK_ARGUMENTS_SAMPLE(ALL_ARGS VARCHAR, ARG1 STRING, ARG2 STRING)",
   "execution_count": null,
   "outputs": []
  },
  {
   "cell_type": "code",
   "id": "11dc50f3-4fc7-4ed1-8b83-8ec973007c94",
   "metadata": {
    "language": "python",
    "name": "cell5",
    "collapsed": false
   },
   "outputs": [],
   "source": "args = sfutils.widgets.args\nname = sfutils.widgets.get(\"name\") or \"not given\"\nlastname = sfutils.widgets.get(\"lastname\") or \"not given\"\nargs = json.dumps(args)",
   "execution_count": null
  },
  {
   "cell_type": "code",
   "id": "2f13b569-29c2-4626-9d27-4e40c4caec62",
   "metadata": {
    "language": "sql",
    "name": "cell4",
    "collapsed": false
   },
   "outputs": [],
   "source": "INSERT INTO NOTEBOOK_ARGUMENTS_SAMPLE VALUES ('{{ args }}','{{name}}','{{lastname}}')",
   "execution_count": null
  },
  {
   "cell_type": "code",
   "id": "9fd545c2-3708-4f8e-9727-21e1ccce5192",
   "metadata": {
    "language": "sql",
    "name": "cell6",
    "collapsed": false
   },
   "outputs": [],
   "source": "select * from NOTEBOOK_ARGUMENTS_SAMPLE",
   "execution_count": null
  },
  {
   "cell_type": "code",
   "id": "026601e3-d1ae-41a1-b656-14962b5f6ae0",
   "metadata": {
    "language": "python",
    "name": "cell7"
   },
   "outputs": [],
   "source": "if sfutils.widgets.get(\"name\") == \"John\":\n    session.sql(\"\"\"\n    INSERT INTO NOTEBOOK_ARGUMENTS_SAMPLE VALUES ('{}','The notebook was called with John','Done')\n    \"\"\").show()",
   "execution_count": null
  },
  {
   "cell_type": "code",
   "id": "6d830cf9-8063-4545-a92c-711d61d0a43a",
   "metadata": {
    "language": "python",
    "name": "cell8"
   },
   "outputs": [],
   "source": "if sfutils.widgets.get(\"name\") == \"Ann\":\n    session.sql(\"\"\"\n    INSERT INTO NOTEBOOK_ARGUMENTS_SAMPLE VALUES ('{}','The notebook was called with Ann','Done')\n    \"\"\").show()",
   "execution_count": null
  }
 ]
}